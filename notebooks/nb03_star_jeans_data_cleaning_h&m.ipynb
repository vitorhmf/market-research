{
 "cells": [
  {
   "cell_type": "markdown",
   "metadata": {},
   "source": [
    "# 1. Imports"
   ]
  },
  {
   "cell_type": "markdown",
   "metadata": {},
   "source": [
    "## 1.1 Libraries "
   ]
  },
  {
   "cell_type": "code",
   "execution_count": 174,
   "metadata": {},
   "outputs": [],
   "source": [
    "import re\n",
    "import sqlite3\n",
    "import inflection\n",
    "\n",
    "\n",
    "import pandas   as pd\n",
    "import numpy    as np\n",
    "\n",
    "from sqlalchemy import create_engine"
   ]
  },
  {
   "cell_type": "markdown",
   "metadata": {},
   "source": [
    "## 1.2 Loading Data"
   ]
  },
  {
   "cell_type": "code",
   "execution_count": 155,
   "metadata": {},
   "outputs": [],
   "source": [
    "hm_data_raw = pd.read_csv('../data/hm_data_raw.csv', dtype={'product_id': str, 'style_id': str, 'color_id': str})"
   ]
  },
  {
   "cell_type": "code",
   "execution_count": 156,
   "metadata": {},
   "outputs": [],
   "source": [
    "df1 = hm_data_raw.copy()"
   ]
  },
  {
   "cell_type": "markdown",
   "metadata": {},
   "source": [
    "# 2. Data Understanding"
   ]
  },
  {
   "cell_type": "markdown",
   "metadata": {},
   "source": [
    "## 2.1 Overview"
   ]
  },
  {
   "cell_type": "code",
   "execution_count": 157,
   "metadata": {},
   "outputs": [],
   "source": [
    "df2 = df1.copy()"
   ]
  },
  {
   "cell_type": "code",
   "execution_count": 158,
   "metadata": {},
   "outputs": [
    {
     "data": {
      "text/html": [
       "<div>\n",
       "<style scoped>\n",
       "    .dataframe tbody tr th:only-of-type {\n",
       "        vertical-align: middle;\n",
       "    }\n",
       "\n",
       "    .dataframe tbody tr th {\n",
       "        vertical-align: top;\n",
       "    }\n",
       "\n",
       "    .dataframe thead th {\n",
       "        text-align: right;\n",
       "    }\n",
       "</style>\n",
       "<table border=\"1\" class=\"dataframe\">\n",
       "  <thead>\n",
       "    <tr style=\"text-align: right;\">\n",
       "      <th></th>\n",
       "      <th>product_id</th>\n",
       "      <th>product_name</th>\n",
       "      <th>product_category</th>\n",
       "      <th>product_price</th>\n",
       "      <th>style_id</th>\n",
       "      <th>color_id</th>\n",
       "      <th>scrapy_datetime</th>\n",
       "      <th>color_name</th>\n",
       "      <th>Fit</th>\n",
       "      <th>Composition</th>\n",
       "    </tr>\n",
       "  </thead>\n",
       "  <tbody>\n",
       "    <tr>\n",
       "      <th>0</th>\n",
       "      <td>0985159001</td>\n",
       "      <td>Skinny Jeans</td>\n",
       "      <td>men_jeans_skinny</td>\n",
       "      <td>$ 24.99</td>\n",
       "      <td>0985159</td>\n",
       "      <td>001</td>\n",
       "      <td>2022-09-23 09:43:57</td>\n",
       "      <td>Black</td>\n",
       "      <td>Skinny fit</td>\n",
       "      <td>Shell: Cotton 99%, Spandex 1%</td>\n",
       "    </tr>\n",
       "    <tr>\n",
       "      <th>1</th>\n",
       "      <td>0985159001</td>\n",
       "      <td>Skinny Jeans</td>\n",
       "      <td>men_jeans_skinny</td>\n",
       "      <td>$ 24.99</td>\n",
       "      <td>0985159</td>\n",
       "      <td>001</td>\n",
       "      <td>2022-09-23 09:43:57</td>\n",
       "      <td>Black</td>\n",
       "      <td>Skinny fit</td>\n",
       "      <td>Pocket lining: Cotton 100%</td>\n",
       "    </tr>\n",
       "    <tr>\n",
       "      <th>2</th>\n",
       "      <td>0985159001</td>\n",
       "      <td>Skinny Jeans</td>\n",
       "      <td>men_jeans_skinny</td>\n",
       "      <td>$ 24.99</td>\n",
       "      <td>0985159</td>\n",
       "      <td>001</td>\n",
       "      <td>2022-09-23 09:43:57</td>\n",
       "      <td>Black</td>\n",
       "      <td>Skinny fit</td>\n",
       "      <td>Pocket lining: Polyester 65%, Cotton 35%</td>\n",
       "    </tr>\n",
       "    <tr>\n",
       "      <th>3</th>\n",
       "      <td>1024256001</td>\n",
       "      <td>Slim Jeans</td>\n",
       "      <td>men_jeans_slim</td>\n",
       "      <td>$ 19.99</td>\n",
       "      <td>1024256</td>\n",
       "      <td>001</td>\n",
       "      <td>2022-09-23 09:43:57</td>\n",
       "      <td>Black</td>\n",
       "      <td>Slim fit</td>\n",
       "      <td>Shell: Cotton 99%, Spandex 1%</td>\n",
       "    </tr>\n",
       "    <tr>\n",
       "      <th>4</th>\n",
       "      <td>1024256001</td>\n",
       "      <td>Slim Jeans</td>\n",
       "      <td>men_jeans_slim</td>\n",
       "      <td>$ 19.99</td>\n",
       "      <td>1024256</td>\n",
       "      <td>001</td>\n",
       "      <td>2022-09-23 09:43:57</td>\n",
       "      <td>Black</td>\n",
       "      <td>Slim fit</td>\n",
       "      <td>Pocket lining: Polyester 65%, Cotton 35%</td>\n",
       "    </tr>\n",
       "  </tbody>\n",
       "</table>\n",
       "</div>"
      ],
      "text/plain": [
       "   product_id  product_name  product_category product_price style_id color_id  \\\n",
       "0  0985159001  Skinny Jeans  men_jeans_skinny       $ 24.99  0985159      001   \n",
       "1  0985159001  Skinny Jeans  men_jeans_skinny       $ 24.99  0985159      001   \n",
       "2  0985159001  Skinny Jeans  men_jeans_skinny       $ 24.99  0985159      001   \n",
       "3  1024256001    Slim Jeans    men_jeans_slim       $ 19.99  1024256      001   \n",
       "4  1024256001    Slim Jeans    men_jeans_slim       $ 19.99  1024256      001   \n",
       "\n",
       "       scrapy_datetime color_name         Fit  \\\n",
       "0  2022-09-23 09:43:57      Black  Skinny fit   \n",
       "1  2022-09-23 09:43:57      Black  Skinny fit   \n",
       "2  2022-09-23 09:43:57      Black  Skinny fit   \n",
       "3  2022-09-23 09:43:57      Black    Slim fit   \n",
       "4  2022-09-23 09:43:57      Black    Slim fit   \n",
       "\n",
       "                                Composition  \n",
       "0             Shell: Cotton 99%, Spandex 1%  \n",
       "1                Pocket lining: Cotton 100%  \n",
       "2  Pocket lining: Polyester 65%, Cotton 35%  \n",
       "3             Shell: Cotton 99%, Spandex 1%  \n",
       "4  Pocket lining: Polyester 65%, Cotton 35%  "
      ]
     },
     "execution_count": 158,
     "metadata": {},
     "output_type": "execute_result"
    }
   ],
   "source": [
    "df2.head()"
   ]
  },
  {
   "cell_type": "code",
   "execution_count": 159,
   "metadata": {},
   "outputs": [],
   "source": [
    "# Rename Columns\n",
    "cols_old = ['product_id', 'product_name', 'product_category', 'product_price', 'style_id', 'color_id', 'scrapy_datetime', 'color_name', 'Fit', 'Composition']\n",
    "snakecase = lambda x: inflection.underscore(x)\n",
    "cols_new = list(map(snakecase, cols_old))\n",
    "df2.columns = cols_new"
   ]
  },
  {
   "cell_type": "code",
   "execution_count": 160,
   "metadata": {},
   "outputs": [
    {
     "name": "stdout",
     "output_type": "stream",
     "text": [
      "Number of Rows:226\n",
      "Number of Columns:10\n"
     ]
    }
   ],
   "source": [
    "# H&M Data Dimentions\n",
    "print(f'Number of Rows:{df2.shape[0]}')\n",
    "print(f'Number of Columns:{df2.shape[1]}')"
   ]
  },
  {
   "cell_type": "code",
   "execution_count": 185,
   "metadata": {},
   "outputs": [
    {
     "data": {
      "text/plain": [
       "product_id          35\n",
       "product_name         8\n",
       "product_category     6\n",
       "product_price        2\n",
       "style_id             8\n",
       "color_id            24\n",
       "scrapy_datetime      1\n",
       "color_name          14\n",
       "fit                  4\n",
       "cotton               7\n",
       "polyester            4\n",
       "spandex              3\n",
       "dtype: int64"
      ]
     },
     "execution_count": 185,
     "metadata": {},
     "output_type": "execute_result"
    }
   ],
   "source": [
    "df2.apply(lambda x: len(x.unique()))"
   ]
  },
  {
   "cell_type": "code",
   "execution_count": 161,
   "metadata": {},
   "outputs": [
    {
     "data": {
      "text/plain": [
       "product_id          object\n",
       "product_name        object\n",
       "product_category    object\n",
       "product_price       object\n",
       "style_id            object\n",
       "color_id            object\n",
       "scrapy_datetime     object\n",
       "color_name          object\n",
       "fit                 object\n",
       "composition         object\n",
       "dtype: object"
      ]
     },
     "execution_count": 161,
     "metadata": {},
     "output_type": "execute_result"
    }
   ],
   "source": [
    "# Data Types\n",
    "df2.dtypes"
   ]
  },
  {
   "cell_type": "markdown",
   "metadata": {},
   "source": [
    "## 2.2 Data Cleaning"
   ]
  },
  {
   "cell_type": "markdown",
   "metadata": {},
   "source": [
    "### 2.2.1 Check & Fillout NA "
   ]
  },
  {
   "cell_type": "code",
   "execution_count": 162,
   "metadata": {},
   "outputs": [
    {
     "data": {
      "text/plain": [
       "product_id          0\n",
       "product_name        0\n",
       "product_category    0\n",
       "product_price       0\n",
       "style_id            0\n",
       "color_id            0\n",
       "scrapy_datetime     0\n",
       "color_name          0\n",
       "fit                 0\n",
       "composition         0\n",
       "dtype: int64"
      ]
     },
     "execution_count": 162,
     "metadata": {},
     "output_type": "execute_result"
    }
   ],
   "source": [
    "df2.isna().sum()"
   ]
  },
  {
   "cell_type": "markdown",
   "metadata": {},
   "source": [
    "### 2.2.2 Change Types and Format"
   ]
  },
  {
   "cell_type": "code",
   "execution_count": 163,
   "metadata": {},
   "outputs": [],
   "source": [
    "# Product ID\n",
    "# Didn't need to be change.\n",
    "\n",
    "# Product Name\n",
    "df2['product_name'] = df2['product_name'].apply(lambda x: x.replace(' ', '_').lower())\n",
    "\n",
    "# Product Price\n",
    "df2['product_price'] = df2['product_price'].apply(lambda x: x.replace('$', '')).astype(float)\n",
    "\n",
    "# Style ID\n",
    "df2['style_id'] = df2['style_id'].astype(int)\n",
    "\n",
    "# Color ID\n",
    "df2['color_id'] = df2['color_id'].astype(int)\n",
    "\n",
    "# Scrapy Datetime\n",
    "df2['scrapy_datetime'] = pd.to_datetime(df2['scrapy_datetime'], format = '%Y-%m-%d %H:%M:%S')\n",
    "\n",
    "# Color Name\n",
    "df2['color_name'] = df2['color_name'].apply(lambda x: x.replace(' ', '_').lower())\n",
    "\n",
    "# Fit\n",
    "df2['fit'] = df2['fit'].apply(lambda x: x.replace(' ', '_').lower())"
   ]
  },
  {
   "cell_type": "markdown",
   "metadata": {},
   "source": [
    "### 2.2.3 Cleaning Composition Column"
   ]
  },
  {
   "cell_type": "code",
   "execution_count": 164,
   "metadata": {},
   "outputs": [],
   "source": [
    "# Drop Composition \"Pants Parts\"\n",
    "df2 = df2[~df2['composition'].str.contains('Pocket', na=False)]\n",
    "df2 = df2[~df2['composition'].str.contains('Shell', na=False)]\n",
    "df2 = df2[~df2['composition'].str.contains('Lining', na=False)]\n",
    "df2 = df2.reset_index(drop=True)\n",
    "\n",
    "# Break composition by comma\n",
    "aux = df2['composition'].str.split(',', expand=True)\n",
    "\n",
    "# Sequence composition (cotton | polyester | Spandex):\n",
    "df_ref = pd.DataFrame(index = np.arange(len(df2)), columns = ['cotton', 'polyester', 'spandex'])\n",
    "\n",
    "# Cotton \n",
    "df_cotton = aux[0]\n",
    "df_cotton.name = 'cotton'\n",
    "\n",
    "df_ref = pd.concat([df_ref, df_cotton], axis=1)\n",
    "df_ref = df_ref.iloc[:, ~df_ref.columns.duplicated(keep='last')]\n",
    "df_ref['cotton'] = df_ref['cotton'].fillna('Cotton 0%')\n",
    "\n",
    "# Polyester\n",
    "df_polyester = aux.loc[aux[1].str.contains('Polyester', na=True), 1]\n",
    "df_polyester.name = 'polyester'\n",
    "\n",
    "df_ref = pd.concat([df_ref, df_polyester], axis = 1)\n",
    "df_ref = df_ref.iloc[:, ~df_ref.columns.duplicated(keep='last')]\n",
    "df_ref['polyester'] = df_ref['polyester'].fillna('Polyester 0%')\n",
    "\n",
    "# Spandex\n",
    "df_spandex = aux.loc[aux[1].str.contains('Spandex', na=True), 1]\n",
    "df_spandex.name = 'spandex'\n",
    "df_spandex = df_spandex.combine_first(aux[2])       # combine_first function merge the 2 columns that contains spandex information\n",
    "\n",
    "#Other way to merge:\n",
    "# df_spandex = pd.concat([df_spandex, aux[2]], axis = 1)\n",
    "# df_spandex = df_spandex.sort_index()\n",
    "# df_spandex['spandex'] = df_spandex.apply(lambda x: x[1] if (pd.notnull(x[1])) else x[2], axis = 1)\n",
    "# df_spandex = df_spandex['spandex']\n",
    "\n",
    "df_ref = pd.concat([df_ref, df_spandex], axis = 1)\n",
    "df_ref = df_ref.iloc[:, ~df_ref.columns.duplicated(keep='last')]\n",
    "df_ref['spandex'] = df_ref['spandex'].fillna('Spandex 0%')\n",
    "\n",
    "# Final Join\n",
    "df2 = pd.concat ([df2, df_ref], axis = 1)\n",
    "\n",
    "# Format Composition Data\n",
    "df2['cotton'] = df2['cotton'].apply(lambda x: int(re.search('\\d+', x).group(0))/100 if pd.notnull(x) else x)\n",
    "df2['polyester'] = df2['polyester'].apply(lambda x: int(re.search('\\d+', x).group(0))/100 if pd.notnull(x) else x)\n",
    "df2['spandex'] = df2['spandex'].apply(lambda x: int(re.search('\\d+', x).group(0))/100 if pd.notnull(x) else x)\n",
    "\n",
    "# Drop Columns\n",
    "df2 = df2.drop(columns = ['composition'], axis=1)\n"
   ]
  },
  {
   "cell_type": "code",
   "execution_count": 165,
   "metadata": {},
   "outputs": [
    {
     "data": {
      "text/plain": [
       "(54, 12)"
      ]
     },
     "execution_count": 165,
     "metadata": {},
     "output_type": "execute_result"
    }
   ],
   "source": [
    "df2.shape"
   ]
  },
  {
   "cell_type": "code",
   "execution_count": 166,
   "metadata": {},
   "outputs": [
    {
     "data": {
      "text/html": [
       "<div>\n",
       "<style scoped>\n",
       "    .dataframe tbody tr th:only-of-type {\n",
       "        vertical-align: middle;\n",
       "    }\n",
       "\n",
       "    .dataframe tbody tr th {\n",
       "        vertical-align: top;\n",
       "    }\n",
       "\n",
       "    .dataframe thead th {\n",
       "        text-align: right;\n",
       "    }\n",
       "</style>\n",
       "<table border=\"1\" class=\"dataframe\">\n",
       "  <thead>\n",
       "    <tr style=\"text-align: right;\">\n",
       "      <th></th>\n",
       "      <th>product_id</th>\n",
       "      <th>product_name</th>\n",
       "      <th>product_category</th>\n",
       "      <th>product_price</th>\n",
       "      <th>style_id</th>\n",
       "      <th>color_id</th>\n",
       "      <th>scrapy_datetime</th>\n",
       "      <th>color_name</th>\n",
       "      <th>fit</th>\n",
       "      <th>cotton</th>\n",
       "      <th>polyester</th>\n",
       "      <th>spandex</th>\n",
       "    </tr>\n",
       "  </thead>\n",
       "  <tbody>\n",
       "    <tr>\n",
       "      <th>0</th>\n",
       "      <td>0938875007</td>\n",
       "      <td>slim_tapered_jeans</td>\n",
       "      <td>men_jeans_slim</td>\n",
       "      <td>39.99</td>\n",
       "      <td>938875</td>\n",
       "      <td>7</td>\n",
       "      <td>2022-09-23 09:43:57</td>\n",
       "      <td>black</td>\n",
       "      <td>slim_fit</td>\n",
       "      <td>0.99</td>\n",
       "      <td>0.00</td>\n",
       "      <td>0.01</td>\n",
       "    </tr>\n",
       "    <tr>\n",
       "      <th>1</th>\n",
       "      <td>0993887007</td>\n",
       "      <td>hybrid_regular_denim_joggers</td>\n",
       "      <td>men_jeans_joggers</td>\n",
       "      <td>39.99</td>\n",
       "      <td>993887</td>\n",
       "      <td>7</td>\n",
       "      <td>2022-09-23 09:43:57</td>\n",
       "      <td>black/no_fade_black</td>\n",
       "      <td>regular_fit</td>\n",
       "      <td>0.80</td>\n",
       "      <td>0.19</td>\n",
       "      <td>0.01</td>\n",
       "    </tr>\n",
       "    <tr>\n",
       "      <th>2</th>\n",
       "      <td>0993887007</td>\n",
       "      <td>hybrid_regular_denim_joggers</td>\n",
       "      <td>men_jeans_joggers</td>\n",
       "      <td>39.99</td>\n",
       "      <td>993887</td>\n",
       "      <td>7</td>\n",
       "      <td>2022-09-23 09:43:57</td>\n",
       "      <td>black/no_fade_black</td>\n",
       "      <td>regular_fit</td>\n",
       "      <td>0.77</td>\n",
       "      <td>0.21</td>\n",
       "      <td>0.02</td>\n",
       "    </tr>\n",
       "    <tr>\n",
       "      <th>3</th>\n",
       "      <td>0993887007</td>\n",
       "      <td>hybrid_regular_denim_joggers</td>\n",
       "      <td>men_jeans_joggers</td>\n",
       "      <td>39.99</td>\n",
       "      <td>993887</td>\n",
       "      <td>7</td>\n",
       "      <td>2022-09-23 09:43:57</td>\n",
       "      <td>black/no_fade_black</td>\n",
       "      <td>regular_fit</td>\n",
       "      <td>0.78</td>\n",
       "      <td>0.21</td>\n",
       "      <td>0.01</td>\n",
       "    </tr>\n",
       "    <tr>\n",
       "      <th>4</th>\n",
       "      <td>1004199007</td>\n",
       "      <td>skinny_cropped_jeans</td>\n",
       "      <td>men_jeans_skinny</td>\n",
       "      <td>29.99</td>\n",
       "      <td>1004199</td>\n",
       "      <td>7</td>\n",
       "      <td>2022-09-23 09:43:57</td>\n",
       "      <td>denim_blue</td>\n",
       "      <td>skinny_fit</td>\n",
       "      <td>0.99</td>\n",
       "      <td>0.00</td>\n",
       "      <td>0.01</td>\n",
       "    </tr>\n",
       "  </tbody>\n",
       "</table>\n",
       "</div>"
      ],
      "text/plain": [
       "   product_id                  product_name   product_category  product_price  \\\n",
       "0  0938875007            slim_tapered_jeans     men_jeans_slim          39.99   \n",
       "1  0993887007  hybrid_regular_denim_joggers  men_jeans_joggers          39.99   \n",
       "2  0993887007  hybrid_regular_denim_joggers  men_jeans_joggers          39.99   \n",
       "3  0993887007  hybrid_regular_denim_joggers  men_jeans_joggers          39.99   \n",
       "4  1004199007          skinny_cropped_jeans   men_jeans_skinny          29.99   \n",
       "\n",
       "   style_id  color_id     scrapy_datetime           color_name          fit  \\\n",
       "0    938875         7 2022-09-23 09:43:57                black     slim_fit   \n",
       "1    993887         7 2022-09-23 09:43:57  black/no_fade_black  regular_fit   \n",
       "2    993887         7 2022-09-23 09:43:57  black/no_fade_black  regular_fit   \n",
       "3    993887         7 2022-09-23 09:43:57  black/no_fade_black  regular_fit   \n",
       "4   1004199         7 2022-09-23 09:43:57           denim_blue   skinny_fit   \n",
       "\n",
       "   cotton  polyester  spandex  \n",
       "0    0.99       0.00     0.01  \n",
       "1    0.80       0.19     0.01  \n",
       "2    0.77       0.21     0.02  \n",
       "3    0.78       0.21     0.01  \n",
       "4    0.99       0.00     0.01  "
      ]
     },
     "execution_count": 166,
     "metadata": {},
     "output_type": "execute_result"
    }
   ],
   "source": [
    "df2.head()"
   ]
  },
  {
   "cell_type": "code",
   "execution_count": 167,
   "metadata": {},
   "outputs": [
    {
     "data": {
      "text/plain": [
       "product_id          35\n",
       "product_name         8\n",
       "product_category     6\n",
       "product_price        2\n",
       "style_id             8\n",
       "color_id            24\n",
       "scrapy_datetime      1\n",
       "color_name          14\n",
       "fit                  4\n",
       "cotton               7\n",
       "polyester            4\n",
       "spandex              3\n",
       "dtype: int64"
      ]
     },
     "execution_count": 167,
     "metadata": {},
     "output_type": "execute_result"
    }
   ],
   "source": [
    "df2.apply(lambda x: len(x.unique()))"
   ]
  },
  {
   "cell_type": "markdown",
   "metadata": {},
   "source": [
    "# 3. Save Changes"
   ]
  },
  {
   "cell_type": "markdown",
   "metadata": {},
   "source": [
    "## 3.1 Save .csv File"
   ]
  },
  {
   "cell_type": "code",
   "execution_count": 168,
   "metadata": {},
   "outputs": [],
   "source": [
    "# Save as .csv\n",
    "df2.to_csv('../data/hm_data_cleaned.csv', index=False)"
   ]
  },
  {
   "cell_type": "markdown",
   "metadata": {},
   "source": [
    "## 3.2 Create SQL Database "
   ]
  },
  {
   "cell_type": "code",
   "execution_count": 171,
   "metadata": {},
   "outputs": [
    {
     "data": {
      "text/plain": [
       "product_id                  object\n",
       "product_name                object\n",
       "product_category            object\n",
       "product_price              float64\n",
       "style_id                     int64\n",
       "color_id                     int64\n",
       "scrapy_datetime     datetime64[ns]\n",
       "color_name                  object\n",
       "fit                         object\n",
       "cotton                     float64\n",
       "polyester                  float64\n",
       "spandex                    float64\n",
       "dtype: object"
      ]
     },
     "execution_count": 171,
     "metadata": {},
     "output_type": "execute_result"
    }
   ],
   "source": [
    "df2.dtypes"
   ]
  },
  {
   "cell_type": "code",
   "execution_count": 182,
   "metadata": {},
   "outputs": [
    {
     "data": {
      "text/plain": [
       "54"
      ]
     },
     "execution_count": 182,
     "metadata": {},
     "output_type": "execute_result"
    }
   ],
   "source": [
    "# Database Conection\n",
    "\n",
    "endpoint_local = 'sqlite:////home/vitor/Repos/market-research/data/hm_db.sqlite'\n",
    "\n",
    "engine = create_engine(endpoint_local)\n",
    "connection = engine.connect()\n",
    "\n",
    "# Create Table\n",
    "# query_showroom_schema = \"\"\" \n",
    "#     CREATE TABLE showroom (\n",
    "#         product_id                  TEXT,\n",
    "#         product_name                TEXT,\n",
    "#         product_category            TEXT,\n",
    "#         product_price               REAL,\n",
    "#         style_id                    INTEGER,\n",
    "#         color_id                    INTEGER,\n",
    "#         scrapy_datetime             TEXT,\n",
    "#         color_name                  TEXT,\n",
    "#         fit                         TEXT,\n",
    "#         cotton                      REAL,\n",
    "#         polyester                   REAL,\n",
    "#         spandex                     REAL\n",
    "#     )\n",
    "\n",
    "# \"\"\"\n",
    "\n",
    "# cursor = conn.execute(query_showroom_schema)\n",
    "\n",
    "# conn.commit()\n",
    "# conn.close()\n",
    "\n",
    "# Insert Data\n",
    "df2.to_sql('showroom', con = engine, if_exists='append', index=False)"
   ]
  },
  {
   "cell_type": "code",
   "execution_count": 183,
   "metadata": {},
   "outputs": [
    {
     "data": {
      "text/html": [
       "<div>\n",
       "<style scoped>\n",
       "    .dataframe tbody tr th:only-of-type {\n",
       "        vertical-align: middle;\n",
       "    }\n",
       "\n",
       "    .dataframe tbody tr th {\n",
       "        vertical-align: top;\n",
       "    }\n",
       "\n",
       "    .dataframe thead th {\n",
       "        text-align: right;\n",
       "    }\n",
       "</style>\n",
       "<table border=\"1\" class=\"dataframe\">\n",
       "  <thead>\n",
       "    <tr style=\"text-align: right;\">\n",
       "      <th></th>\n",
       "      <th>product_id</th>\n",
       "      <th>product_name</th>\n",
       "      <th>product_category</th>\n",
       "      <th>product_price</th>\n",
       "      <th>style_id</th>\n",
       "      <th>color_id</th>\n",
       "      <th>scrapy_datetime</th>\n",
       "      <th>color_name</th>\n",
       "      <th>fit</th>\n",
       "      <th>cotton</th>\n",
       "      <th>polyester</th>\n",
       "      <th>spandex</th>\n",
       "    </tr>\n",
       "  </thead>\n",
       "  <tbody>\n",
       "    <tr>\n",
       "      <th>0</th>\n",
       "      <td>0938875007</td>\n",
       "      <td>slim_tapered_jeans</td>\n",
       "      <td>men_jeans_slim</td>\n",
       "      <td>39.99</td>\n",
       "      <td>938875</td>\n",
       "      <td>7</td>\n",
       "      <td>2022-09-23 09:43:57</td>\n",
       "      <td>black</td>\n",
       "      <td>slim_fit</td>\n",
       "      <td>0.99</td>\n",
       "      <td>0.00</td>\n",
       "      <td>0.01</td>\n",
       "    </tr>\n",
       "    <tr>\n",
       "      <th>1</th>\n",
       "      <td>0993887007</td>\n",
       "      <td>hybrid_regular_denim_joggers</td>\n",
       "      <td>men_jeans_joggers</td>\n",
       "      <td>39.99</td>\n",
       "      <td>993887</td>\n",
       "      <td>7</td>\n",
       "      <td>2022-09-23 09:43:57</td>\n",
       "      <td>black/no_fade_black</td>\n",
       "      <td>regular_fit</td>\n",
       "      <td>0.80</td>\n",
       "      <td>0.19</td>\n",
       "      <td>0.01</td>\n",
       "    </tr>\n",
       "    <tr>\n",
       "      <th>2</th>\n",
       "      <td>0993887007</td>\n",
       "      <td>hybrid_regular_denim_joggers</td>\n",
       "      <td>men_jeans_joggers</td>\n",
       "      <td>39.99</td>\n",
       "      <td>993887</td>\n",
       "      <td>7</td>\n",
       "      <td>2022-09-23 09:43:57</td>\n",
       "      <td>black/no_fade_black</td>\n",
       "      <td>regular_fit</td>\n",
       "      <td>0.77</td>\n",
       "      <td>0.21</td>\n",
       "      <td>0.02</td>\n",
       "    </tr>\n",
       "    <tr>\n",
       "      <th>3</th>\n",
       "      <td>0993887007</td>\n",
       "      <td>hybrid_regular_denim_joggers</td>\n",
       "      <td>men_jeans_joggers</td>\n",
       "      <td>39.99</td>\n",
       "      <td>993887</td>\n",
       "      <td>7</td>\n",
       "      <td>2022-09-23 09:43:57</td>\n",
       "      <td>black/no_fade_black</td>\n",
       "      <td>regular_fit</td>\n",
       "      <td>0.78</td>\n",
       "      <td>0.21</td>\n",
       "      <td>0.01</td>\n",
       "    </tr>\n",
       "    <tr>\n",
       "      <th>4</th>\n",
       "      <td>1004199007</td>\n",
       "      <td>skinny_cropped_jeans</td>\n",
       "      <td>men_jeans_skinny</td>\n",
       "      <td>29.99</td>\n",
       "      <td>1004199</td>\n",
       "      <td>7</td>\n",
       "      <td>2022-09-23 09:43:57</td>\n",
       "      <td>denim_blue</td>\n",
       "      <td>skinny_fit</td>\n",
       "      <td>0.99</td>\n",
       "      <td>0.00</td>\n",
       "      <td>0.01</td>\n",
       "    </tr>\n",
       "  </tbody>\n",
       "</table>\n",
       "</div>"
      ],
      "text/plain": [
       "   product_id                  product_name   product_category  product_price  \\\n",
       "0  0938875007            slim_tapered_jeans     men_jeans_slim          39.99   \n",
       "1  0993887007  hybrid_regular_denim_joggers  men_jeans_joggers          39.99   \n",
       "2  0993887007  hybrid_regular_denim_joggers  men_jeans_joggers          39.99   \n",
       "3  0993887007  hybrid_regular_denim_joggers  men_jeans_joggers          39.99   \n",
       "4  1004199007          skinny_cropped_jeans   men_jeans_skinny          29.99   \n",
       "\n",
       "   style_id  color_id      scrapy_datetime           color_name          fit  \\\n",
       "0    938875         7  2022-09-23 09:43:57                black     slim_fit   \n",
       "1    993887         7  2022-09-23 09:43:57  black/no_fade_black  regular_fit   \n",
       "2    993887         7  2022-09-23 09:43:57  black/no_fade_black  regular_fit   \n",
       "3    993887         7  2022-09-23 09:43:57  black/no_fade_black  regular_fit   \n",
       "4   1004199         7  2022-09-23 09:43:57           denim_blue   skinny_fit   \n",
       "\n",
       "   cotton  polyester  spandex  \n",
       "0    0.99       0.00     0.01  \n",
       "1    0.80       0.19     0.01  \n",
       "2    0.77       0.21     0.02  \n",
       "3    0.78       0.21     0.01  \n",
       "4    0.99       0.00     0.01  "
      ]
     },
     "execution_count": 183,
     "metadata": {},
     "output_type": "execute_result"
    }
   ],
   "source": [
    "# Consulting Database\n",
    "query = \"\"\" \n",
    "    SELECT * FROM showroom\n",
    "\n",
    "\"\"\"\n",
    "\n",
    "df3 = pd.read_sql_query(query, engine)\n",
    "df3.head()\n"
   ]
  },
  {
   "cell_type": "code",
   "execution_count": 184,
   "metadata": {},
   "outputs": [],
   "source": [
    "connection.close()"
   ]
  }
 ],
 "metadata": {
  "kernelspec": {
   "display_name": "Python 3.9.0 64-bit ('StarJeans')",
   "language": "python",
   "name": "python3"
  },
  "language_info": {
   "codemirror_mode": {
    "name": "ipython",
    "version": 3
   },
   "file_extension": ".py",
   "mimetype": "text/x-python",
   "name": "python",
   "nbconvert_exporter": "python",
   "pygments_lexer": "ipython3",
   "version": "3.9.0"
  },
  "orig_nbformat": 4,
  "vscode": {
   "interpreter": {
    "hash": "3cfe24fc82f2218415b202d591740e2e742597bb524a18172b0a782374a11c45"
   }
  }
 },
 "nbformat": 4,
 "nbformat_minor": 2
}

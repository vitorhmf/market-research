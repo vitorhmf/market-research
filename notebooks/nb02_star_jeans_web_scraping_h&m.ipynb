{
 "cells": [
  {
   "cell_type": "markdown",
   "metadata": {},
   "source": [
    "# 1. Imports"
   ]
  },
  {
   "cell_type": "markdown",
   "metadata": {},
   "source": [
    "## 1.1 Libraries "
   ]
  },
  {
   "cell_type": "code",
   "execution_count": 1,
   "metadata": {},
   "outputs": [],
   "source": [
    "import math\n",
    "import requests\n",
    "\n",
    "import numpy as np\n",
    "import pandas as pd\n",
    "\n",
    "from bs4        import BeautifulSoup\n",
    "from datetime   import datetime"
   ]
  },
  {
   "cell_type": "markdown",
   "metadata": {},
   "source": [
    "## 1.2 Loading H&M Data (Web Scraping)"
   ]
  },
  {
   "cell_type": "markdown",
   "metadata": {},
   "source": [
    "### 1.2.1 Request API"
   ]
  },
  {
   "cell_type": "code",
   "execution_count": 2,
   "metadata": {},
   "outputs": [],
   "source": [
    "url = 'https://www2.hm.com/en_us/men/products/jeans.html'\n",
    "\n",
    "headers = {'User-Agent': 'Mozilla/5.0 (Macintosh; Intel Mac OS X 10_11_5) AppleWebKit/537.36 (KHTML, like Gecko) Chrome/50.0.2661.102 Safari/537.36'}\n",
    "page = requests.get (url, headers=headers)\n",
    "\n",
    "soup = BeautifulSoup( page.text, 'html.parser')"
   ]
  },
  {
   "cell_type": "code",
   "execution_count": 3,
   "metadata": {},
   "outputs": [],
   "source": [
    "# Paginação\n",
    "total_item = soup.find_all( 'h2', class_='load-more-heading')[0].get('data-total')\n",
    "page_number = math.ceil(int(total_item) / 36)\n",
    "\n",
    "url2 = url + '?page-size=' + str(int(page_number*36))\n",
    "\n",
    "headers = {'User-Agent': 'Mozilla/5.0 (Macintosh; Intel Mac OS X 10_11_5) AppleWebKit/537.36 (KHTML, like Gecko) Chrome/50.0.2661.102 Safari/537.36'}\n",
    "page = requests.get (url2, headers=headers)\n",
    "\n",
    "soup = BeautifulSoup( page.text, 'html.parser')"
   ]
  },
  {
   "cell_type": "markdown",
   "metadata": {},
   "source": [
    "### 1.2.2 Colecting Information: Id, Category, Name, Price"
   ]
  },
  {
   "cell_type": "code",
   "execution_count": 4,
   "metadata": {},
   "outputs": [],
   "source": [
    "# Product_id\n",
    "products = soup.find('ul', class_ = 'products-listing small')\n",
    "product_list = products.find_all('article', class_ = 'hm-product-item')\n",
    "\n",
    "product_id = [p.get('data-articlecode') for p in product_list]\n",
    "\n",
    "# Product_category\n",
    "product_category = [p.get('data-category') for p in product_list]\n",
    "\n",
    "# Product_name\n",
    "product_list = products.find_all('a', class_ = 'link')\n",
    "product_name = [p.get_text() for p in product_list]\n",
    "\n",
    "# Product_price\n",
    "product_list = products.find_all('span', class_ = 'price regular')\n",
    "product_price = [p.get_text() for p in product_list]\n",
    "\n",
    "# Dataset\n",
    "data = pd.DataFrame([product_id, product_name, product_category, product_price]).T\n",
    "data.columns = ['product_id', 'product_name', 'product_category', 'product_price']\n",
    "\n",
    "# Generate Style ID + Color ID\n",
    "data['style_id'] = data['product_id'].apply(lambda x: x[:-3])\n",
    "data['color_id'] = data['product_id'].apply(lambda x: x[-3:])\n",
    "\n",
    "# Scrapy Datetime\n",
    "data['scrapy_datetime'] = datetime.now().strftime('%Y-%m-%d %H:%M:%S')"
   ]
  },
  {
   "cell_type": "code",
   "execution_count": 5,
   "metadata": {},
   "outputs": [
    {
     "data": {
      "text/html": [
       "<div>\n",
       "<style scoped>\n",
       "    .dataframe tbody tr th:only-of-type {\n",
       "        vertical-align: middle;\n",
       "    }\n",
       "\n",
       "    .dataframe tbody tr th {\n",
       "        vertical-align: top;\n",
       "    }\n",
       "\n",
       "    .dataframe thead th {\n",
       "        text-align: right;\n",
       "    }\n",
       "</style>\n",
       "<table border=\"1\" class=\"dataframe\">\n",
       "  <thead>\n",
       "    <tr style=\"text-align: right;\">\n",
       "      <th></th>\n",
       "      <th>product_id</th>\n",
       "      <th>product_name</th>\n",
       "      <th>product_category</th>\n",
       "      <th>product_price</th>\n",
       "      <th>style_id</th>\n",
       "      <th>color_id</th>\n",
       "      <th>scrapy_datetime</th>\n",
       "    </tr>\n",
       "  </thead>\n",
       "  <tbody>\n",
       "    <tr>\n",
       "      <th>0</th>\n",
       "      <td>1024256001</td>\n",
       "      <td>Slim Jeans</td>\n",
       "      <td>men_jeans_slim</td>\n",
       "      <td>$ 19.99</td>\n",
       "      <td>1024256</td>\n",
       "      <td>001</td>\n",
       "      <td>2022-09-20 12:15:59</td>\n",
       "    </tr>\n",
       "    <tr>\n",
       "      <th>1</th>\n",
       "      <td>1024256006</td>\n",
       "      <td>Slim Jeans</td>\n",
       "      <td>men_jeans_slim</td>\n",
       "      <td>$ 19.99</td>\n",
       "      <td>1024256</td>\n",
       "      <td>006</td>\n",
       "      <td>2022-09-20 12:15:59</td>\n",
       "    </tr>\n",
       "    <tr>\n",
       "      <th>2</th>\n",
       "      <td>0993887007</td>\n",
       "      <td>Hybrid Regular Denim Joggers</td>\n",
       "      <td>men_jeans_joggers</td>\n",
       "      <td>$ 39.99</td>\n",
       "      <td>0993887</td>\n",
       "      <td>007</td>\n",
       "      <td>2022-09-20 12:15:59</td>\n",
       "    </tr>\n",
       "    <tr>\n",
       "      <th>3</th>\n",
       "      <td>0938875007</td>\n",
       "      <td>Slim Tapered Jeans</td>\n",
       "      <td>men_jeans_slim</td>\n",
       "      <td>$ 39.99</td>\n",
       "      <td>0938875</td>\n",
       "      <td>007</td>\n",
       "      <td>2022-09-20 12:15:59</td>\n",
       "    </tr>\n",
       "    <tr>\n",
       "      <th>4</th>\n",
       "      <td>1004199007</td>\n",
       "      <td>Skinny Cropped Jeans</td>\n",
       "      <td>men_jeans_skinny</td>\n",
       "      <td>$ 29.99</td>\n",
       "      <td>1004199</td>\n",
       "      <td>007</td>\n",
       "      <td>2022-09-20 12:15:59</td>\n",
       "    </tr>\n",
       "  </tbody>\n",
       "</table>\n",
       "</div>"
      ],
      "text/plain": [
       "   product_id                  product_name   product_category product_price  \\\n",
       "0  1024256001                    Slim Jeans     men_jeans_slim       $ 19.99   \n",
       "1  1024256006                    Slim Jeans     men_jeans_slim       $ 19.99   \n",
       "2  0993887007  Hybrid Regular Denim Joggers  men_jeans_joggers       $ 39.99   \n",
       "3  0938875007            Slim Tapered Jeans     men_jeans_slim       $ 39.99   \n",
       "4  1004199007          Skinny Cropped Jeans   men_jeans_skinny       $ 29.99   \n",
       "\n",
       "  style_id color_id      scrapy_datetime  \n",
       "0  1024256      001  2022-09-20 12:15:59  \n",
       "1  1024256      006  2022-09-20 12:15:59  \n",
       "2  0993887      007  2022-09-20 12:15:59  \n",
       "3  0938875      007  2022-09-20 12:15:59  \n",
       "4  1004199      007  2022-09-20 12:15:59  "
      ]
     },
     "execution_count": 5,
     "metadata": {},
     "output_type": "execute_result"
    }
   ],
   "source": [
    "data.head()"
   ]
  },
  {
   "cell_type": "markdown",
   "metadata": {},
   "source": [
    "### 1.2.3 Colecting Information: Color and Composition (One Product Test)"
   ]
  },
  {
   "cell_type": "code",
   "execution_count": 6,
   "metadata": {},
   "outputs": [],
   "source": [
    "# API Request\n",
    "\n",
    "url = 'https://www2.hm.com/en_us/productpage.0690449056.html'\n",
    "\n",
    "headers = {'User-Agent': 'Mozilla/5.0 (Macintosh; Intel Mac OS X 10_11_5) AppleWebKit/537.36 (KHTML, like Gecko) Chrome/50.0.2661.102 Safari/537.36'}\n",
    "page = requests.get (url, headers=headers)\n",
    "\n",
    "# Beautiful Soup Object\n",
    "soup = BeautifulSoup( page.text, 'html.parser')"
   ]
  },
  {
   "cell_type": "code",
   "execution_count": 7,
   "metadata": {},
   "outputs": [],
   "source": [
    "###################### Color Name #####################################\n",
    "\n",
    "product_list = soup.find_all ('a', class_ = ['filter-option miniature', 'filter-option miniature active'])\n",
    "\n",
    "# Color name:\n",
    "color_name = [p.get('data-color') for p in product_list]\n",
    "\n",
    "# Product Id:\n",
    "product_id = [p.get('data-articlecode') for p in product_list]\n",
    "\n",
    "# Color Dataframe\n",
    "df_color = pd.DataFrame([product_id, color_name]).T\n",
    "df_color.columns = ['product_id', 'color_name']\n",
    "\n",
    "# Generate Style ID + Color ID\n",
    "df_color['style_id'] = df_color['product_id'].apply(lambda x: x[:-3])\n",
    "df_color['color_id'] = df_color['product_id'].apply(lambda x: x[-3:])"
   ]
  },
  {
   "cell_type": "code",
   "execution_count": 8,
   "metadata": {},
   "outputs": [
    {
     "data": {
      "text/html": [
       "<div>\n",
       "<style scoped>\n",
       "    .dataframe tbody tr th:only-of-type {\n",
       "        vertical-align: middle;\n",
       "    }\n",
       "\n",
       "    .dataframe tbody tr th {\n",
       "        vertical-align: top;\n",
       "    }\n",
       "\n",
       "    .dataframe thead th {\n",
       "        text-align: right;\n",
       "    }\n",
       "</style>\n",
       "<table border=\"1\" class=\"dataframe\">\n",
       "  <thead>\n",
       "    <tr style=\"text-align: right;\">\n",
       "      <th></th>\n",
       "      <th>product_id</th>\n",
       "      <th>color_name</th>\n",
       "      <th>style_id</th>\n",
       "      <th>color_id</th>\n",
       "    </tr>\n",
       "  </thead>\n",
       "  <tbody>\n",
       "    <tr>\n",
       "      <th>0</th>\n",
       "      <td>0690449001</td>\n",
       "      <td>Light denim blue/trashed</td>\n",
       "      <td>0690449</td>\n",
       "      <td>001</td>\n",
       "    </tr>\n",
       "    <tr>\n",
       "      <th>1</th>\n",
       "      <td>0690449002</td>\n",
       "      <td>Denim blue</td>\n",
       "      <td>0690449</td>\n",
       "      <td>002</td>\n",
       "    </tr>\n",
       "    <tr>\n",
       "      <th>2</th>\n",
       "      <td>0690449006</td>\n",
       "      <td>Black/washed</td>\n",
       "      <td>0690449</td>\n",
       "      <td>006</td>\n",
       "    </tr>\n",
       "    <tr>\n",
       "      <th>3</th>\n",
       "      <td>0690449007</td>\n",
       "      <td>Light denim blue</td>\n",
       "      <td>0690449</td>\n",
       "      <td>007</td>\n",
       "    </tr>\n",
       "    <tr>\n",
       "      <th>4</th>\n",
       "      <td>0690449009</td>\n",
       "      <td>Black washed out</td>\n",
       "      <td>0690449</td>\n",
       "      <td>009</td>\n",
       "    </tr>\n",
       "  </tbody>\n",
       "</table>\n",
       "</div>"
      ],
      "text/plain": [
       "   product_id                color_name style_id color_id\n",
       "0  0690449001  Light denim blue/trashed  0690449      001\n",
       "1  0690449002                Denim blue  0690449      002\n",
       "2  0690449006              Black/washed  0690449      006\n",
       "3  0690449007          Light denim blue  0690449      007\n",
       "4  0690449009          Black washed out  0690449      009"
      ]
     },
     "execution_count": 8,
     "metadata": {},
     "output_type": "execute_result"
    }
   ],
   "source": [
    "df_color.head()"
   ]
  },
  {
   "cell_type": "code",
   "execution_count": 9,
   "metadata": {},
   "outputs": [],
   "source": [
    "###################### Composition #####################################\n",
    "\n",
    "product_composition_list = soup.find_all('div', class_='details-attributes-list-item')\n",
    "product_composition = [list(filter(None, p.get_text().split('\\n'))) for p in product_composition_list]\n",
    "\n",
    "# Creating Dataframe\n",
    "df_composition = pd.DataFrame(product_composition).T\n",
    "df_composition.columns = df_composition.iloc[0]         # rename columns as the first row\n",
    "df_composition = df_composition.iloc[1:]                # delete the first row\n",
    "df_composition = df_composition.fillna(method='ffill')  # replace NA for de value above\n",
    "\n",
    "# Generate Style ID + Color ID\n",
    "df_composition['style_id'] = df_composition['Art. No.'].apply(lambda x: x[:-3])\n",
    "df_composition['color_id'] = df_composition['Art. No.'].apply(lambda x: x[-3:])\n"
   ]
  },
  {
   "cell_type": "code",
   "execution_count": 10,
   "metadata": {},
   "outputs": [
    {
     "data": {
      "text/plain": [
       "Index(['messages.garmentLength', 'messages.waistRise', 'Fit',\n",
       "       'messages.clothingStyle', 'Composition', 'Care instructions',\n",
       "       'Material', 'Description', 'Imported', 'Concept', 'Nice to know',\n",
       "       'Art. No.', 'style_id', 'color_id'],\n",
       "      dtype='object', name=0)"
      ]
     },
     "execution_count": 10,
     "metadata": {},
     "output_type": "execute_result"
    }
   ],
   "source": [
    "df_composition.columns"
   ]
  },
  {
   "cell_type": "code",
   "execution_count": 11,
   "metadata": {},
   "outputs": [],
   "source": [
    "\n",
    "################# Merge Color and Composition ##########################\n",
    "\n",
    "df_sku = pd.merge(df_color, df_composition[['messages.garmentLength', \n",
    "                                            'messages.waistRise', 'Fit', \n",
    "                                            'messages.clothingStyle', \n",
    "                                            'Composition', \n",
    "                                            'Care instructions',\n",
    "                                            'Material', \n",
    "                                            'Description', \n",
    "                                            'Imported', \n",
    "                                            'Concept', \n",
    "                                            'Nice to know',\n",
    "                                            'Art. No.', \n",
    "                                            'style_id',]], how='left', on='style_id')"
   ]
  },
  {
   "cell_type": "code",
   "execution_count": 12,
   "metadata": {},
   "outputs": [
    {
     "data": {
      "text/plain": [
       "Index(['product_id', 'color_name', 'style_id', 'color_id',\n",
       "       'messages.garmentLength', 'messages.waistRise', 'Fit',\n",
       "       'messages.clothingStyle', 'Composition', 'Care instructions',\n",
       "       'Material', 'Description', 'Imported', 'Concept', 'Nice to know',\n",
       "       'Art. No.'],\n",
       "      dtype='object')"
      ]
     },
     "execution_count": 12,
     "metadata": {},
     "output_type": "execute_result"
    }
   ],
   "source": [
    "df_sku.columns"
   ]
  },
  {
   "cell_type": "code",
   "execution_count": 13,
   "metadata": {},
   "outputs": [
    {
     "data": {
      "text/html": [
       "<div>\n",
       "<style scoped>\n",
       "    .dataframe tbody tr th:only-of-type {\n",
       "        vertical-align: middle;\n",
       "    }\n",
       "\n",
       "    .dataframe tbody tr th {\n",
       "        vertical-align: top;\n",
       "    }\n",
       "\n",
       "    .dataframe thead th {\n",
       "        text-align: right;\n",
       "    }\n",
       "</style>\n",
       "<table border=\"1\" class=\"dataframe\">\n",
       "  <thead>\n",
       "    <tr style=\"text-align: right;\">\n",
       "      <th></th>\n",
       "      <th>product_id</th>\n",
       "      <th>color_name</th>\n",
       "      <th>style_id</th>\n",
       "      <th>color_id</th>\n",
       "      <th>Fit</th>\n",
       "      <th>Composition</th>\n",
       "    </tr>\n",
       "  </thead>\n",
       "  <tbody>\n",
       "    <tr>\n",
       "      <th>0</th>\n",
       "      <td>0690449001</td>\n",
       "      <td>Light denim blue/trashed</td>\n",
       "      <td>0690449</td>\n",
       "      <td>001</td>\n",
       "      <td>Skinny fit</td>\n",
       "      <td>Cotton 98%, Spandex 2%</td>\n",
       "    </tr>\n",
       "    <tr>\n",
       "      <th>1</th>\n",
       "      <td>0690449001</td>\n",
       "      <td>Light denim blue/trashed</td>\n",
       "      <td>0690449</td>\n",
       "      <td>001</td>\n",
       "      <td>Skinny fit</td>\n",
       "      <td>Pocket lining: Polyester 65%, Cotton 35%</td>\n",
       "    </tr>\n",
       "    <tr>\n",
       "      <th>6</th>\n",
       "      <td>0690449002</td>\n",
       "      <td>Denim blue</td>\n",
       "      <td>0690449</td>\n",
       "      <td>002</td>\n",
       "      <td>Skinny fit</td>\n",
       "      <td>Cotton 98%, Spandex 2%</td>\n",
       "    </tr>\n",
       "    <tr>\n",
       "      <th>7</th>\n",
       "      <td>0690449002</td>\n",
       "      <td>Denim blue</td>\n",
       "      <td>0690449</td>\n",
       "      <td>002</td>\n",
       "      <td>Skinny fit</td>\n",
       "      <td>Pocket lining: Polyester 65%, Cotton 35%</td>\n",
       "    </tr>\n",
       "    <tr>\n",
       "      <th>12</th>\n",
       "      <td>0690449006</td>\n",
       "      <td>Black/washed</td>\n",
       "      <td>0690449</td>\n",
       "      <td>006</td>\n",
       "      <td>Skinny fit</td>\n",
       "      <td>Cotton 98%, Spandex 2%</td>\n",
       "    </tr>\n",
       "  </tbody>\n",
       "</table>\n",
       "</div>"
      ],
      "text/plain": [
       "    product_id                color_name style_id color_id         Fit  \\\n",
       "0   0690449001  Light denim blue/trashed  0690449      001  Skinny fit   \n",
       "1   0690449001  Light denim blue/trashed  0690449      001  Skinny fit   \n",
       "6   0690449002                Denim blue  0690449      002  Skinny fit   \n",
       "7   0690449002                Denim blue  0690449      002  Skinny fit   \n",
       "12  0690449006              Black/washed  0690449      006  Skinny fit   \n",
       "\n",
       "                                 Composition  \n",
       "0                     Cotton 98%, Spandex 2%  \n",
       "1   Pocket lining: Polyester 65%, Cotton 35%  \n",
       "6                     Cotton 98%, Spandex 2%  \n",
       "7   Pocket lining: Polyester 65%, Cotton 35%  \n",
       "12                    Cotton 98%, Spandex 2%  "
      ]
     },
     "execution_count": 13,
     "metadata": {},
     "output_type": "execute_result"
    }
   ],
   "source": [
    "df_sku = df_sku[['product_id', 'color_name', 'style_id', 'color_id','Fit', 'Composition']]\n",
    "df_sku = df_sku.drop_duplicates(keep='first', inplace=False, ignore_index=False)\n",
    "df_sku.head()"
   ]
  },
  {
   "cell_type": "markdown",
   "metadata": {},
   "source": [
    "### 1.2.4 Colecting Information: Color and Composition (Multiple Products)"
   ]
  },
  {
   "cell_type": "code",
   "execution_count": 14,
   "metadata": {},
   "outputs": [],
   "source": [
    "headers = {'User-Agent': 'Mozilla/5.0 (Macintosh; Intel Mac OS X 10_11_5) AppleWebKit/537.36 (KHTML, like Gecko) Chrome/50.0.2661.102 Safari/537.36'}\n",
    "\n",
    "# empty dataframe\n",
    "df_details = pd.DataFrame()\n",
    "\n",
    "# Columns Pattern\n",
    "aux = []\n",
    "cols = ['Additional material information', \n",
    "        'Art. No.', \n",
    "        'Care instructions', \n",
    "        'Composition', \n",
    "        'Concept', \n",
    "        'Description', \n",
    "        'Fit', \n",
    "        'Imported', \n",
    "        'Material', \n",
    "        'Nice to know', \n",
    "        'Size', \n",
    "        'messages.clothingStyle', \n",
    "        'messages.garmentLength', \n",
    "        'messages.waistRise']\n",
    "\n",
    "df_pattern = pd.DataFrame(columns=cols)\n",
    "\n",
    "for i in range (len(data)):\n",
    "\n",
    "    ###################### API Request #####################################\n",
    "\n",
    "    url = 'https://www2.hm.com/en_us/productpage.' + data.loc[i, 'product_id'] +'.html'\n",
    "    page = requests.get (url, headers=headers)\n",
    "\n",
    "    # Beautiful Soup Object\n",
    "    soup = BeautifulSoup( page.text, 'html.parser')\n",
    "\n",
    "    ###################### Color Name #####################################\n",
    "\n",
    "    product_list = soup.find_all ('a', class_ = ['filter-option miniature', 'filter-option miniature active'])\n",
    "\n",
    "    # Color name:\n",
    "    color_name = [p.get('data-color') for p in product_list]\n",
    "\n",
    "    # Product Id:\n",
    "    product_id = [p.get('data-articlecode') for p in product_list]\n",
    "\n",
    "    # Color Dataframe\n",
    "    df_color = pd.DataFrame([product_id, color_name]).T\n",
    "    df_color.columns = ['product_id', 'color_name']\n",
    "\n",
    "    # Generate Style ID + Color ID\n",
    "    df_color['style_id'] = df_color['product_id'].apply(lambda x: x[:-3])\n",
    "    df_color['color_id'] = df_color['product_id'].apply(lambda x: x[-3:])\n",
    "\n",
    "    # ###################### Composition #####################################\n",
    "\n",
    "    product_composition_list = soup.find_all('div', class_='details-attributes-list-item')\n",
    "    product_composition = [list(filter(None, p.get_text().split('\\n'))) for p in product_composition_list]\n",
    "\n",
    "    # Creating Dataframe\n",
    "    df_composition = pd.DataFrame(product_composition).T                # creating dataframe\n",
    "    df_composition.columns = df_composition.iloc[0]                     # rename columns as the first row\n",
    "    df_composition = df_composition.iloc[1:]                            # delete the first row\n",
    "    df_composition = df_composition.fillna(method='ffill')              # replace NA for de value above\n",
    "    df_composition = pd.concat([df_pattern, df_composition], axis=0)    # garantee the same number of columns\n",
    "\n",
    "    # Generate Style ID + Color ID\n",
    "    df_composition['style_id'] = df_composition['Art. No.'].apply(lambda x: x[:-3])\n",
    "    df_composition['color_id'] = df_composition['Art. No.'].apply(lambda x: x[-3:])\n",
    "\n",
    "    aux = aux + df_composition.columns.tolist()\n",
    "\n",
    "    ################# Merge Color and Composition ##########################\n",
    "    df_sku = pd.merge(df_color, df_composition[['style_id', 'Fit', 'Composition']], how='left', on='style_id')\n",
    "\n",
    "    df_details = pd.concat([df_details, df_sku], axis=0)"
   ]
  },
  {
   "cell_type": "markdown",
   "metadata": {},
   "source": [
    "### 1.2.5 Merging All Information"
   ]
  },
  {
   "cell_type": "code",
   "execution_count": 15,
   "metadata": {},
   "outputs": [],
   "source": [
    "# Cleaning duplicates\n",
    "df_details = df_details.drop_duplicates(keep='first', inplace=False, ignore_index=False)"
   ]
  },
  {
   "cell_type": "code",
   "execution_count": 16,
   "metadata": {},
   "outputs": [],
   "source": [
    "df_raw = pd.merge(data, df_details[['product_id', 'color_name', 'Fit', 'Composition']], how='left', on='product_id')"
   ]
  },
  {
   "cell_type": "code",
   "execution_count": 17,
   "metadata": {},
   "outputs": [],
   "source": [
    "# Save as .csv\n",
    "df_raw.to_csv('../data/hm_data_raw.csv', index=False)"
   ]
  }
 ],
 "metadata": {
  "kernelspec": {
   "display_name": "Python 3.9.0 64-bit ('StarJeans')",
   "language": "python",
   "name": "python3"
  },
  "language_info": {
   "codemirror_mode": {
    "name": "ipython",
    "version": 3
   },
   "file_extension": ".py",
   "mimetype": "text/x-python",
   "name": "python",
   "nbconvert_exporter": "python",
   "pygments_lexer": "ipython3",
   "version": "3.9.0"
  },
  "orig_nbformat": 4,
  "vscode": {
   "interpreter": {
    "hash": "3cfe24fc82f2218415b202d591740e2e742597bb524a18172b0a782374a11c45"
   }
  }
 },
 "nbformat": 4,
 "nbformat_minor": 2
}
